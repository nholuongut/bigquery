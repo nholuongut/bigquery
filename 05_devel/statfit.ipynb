{
 "cells": [
  {
   "cell_type": "markdown",
   "metadata": {},
   "source": [
    "# Example of Dataflow pipeline\n",
    "\n",
    "This notebooks shows how you can use Dataflow to do distributed data processing.\n",
    "In this case, the processing involves computing a statistical fit, something that is hard to do in SQL,\n",
    "but quite straightforward in Python.\n",
    "\n",
    "## Install Dataflow"
   ]
  },
  {
   "cell_type": "code",
   "execution_count": 1,
   "metadata": {},
   "outputs": [
    {
     "name": "stdout",
     "output_type": "stream",
     "text": [
      "Note: you may need to restart the kernel to use updated packages.\n"
     ]
    }
   ],
   "source": [
    "%pip install --upgrade --quiet 'apache-beam[gcp]'"
   ]
  },
  {
   "cell_type": "markdown",
   "metadata": {},
   "source": [
    "After doing the pip install (above), please restart your kernel.\n",
    "\n",
    "## Fit rides at a single station to a Gamma distribution"
   ]
  },
  {
   "cell_type": "code",
   "execution_count": 1,
   "metadata": {},
   "outputs": [],
   "source": [
    "# CHANGE THIS to try this notebook out\n",
    "PROJECT='cloud-training-demos' \n",
    "# London Bicycles is in EU, so process it in EU and make sure bucket is in EU\n",
    "BUCKET='cloud-training-demos-eu'\n",
    "REGION='europe-west1'"
   ]
  },
  {
   "cell_type": "markdown",
   "metadata": {},
   "source": [
    "Let's get the duration of all the rides in a station"
   ]
  },
  {
   "cell_type": "code",
   "execution_count": 2,
   "metadata": {},
   "outputs": [
    {
     "name": "stdout",
     "output_type": "stream",
     "text": [
      "            duration\n",
      "count   19112.000000\n",
      "mean     1621.541440\n",
      "std      8781.210736\n",
      "min         0.000000\n",
      "25%       360.000000\n",
      "50%       720.000000\n",
      "75%      1260.000000\n",
      "max    687360.000000\n"
     ]
    }
   ],
   "source": [
    "from google.cloud import bigquery\n",
    "bq = bigquery.Client(project=PROJECT)\n",
    "query = \"\"\"\n",
    "SELECT duration\n",
    "FrOM `bigquery-public-data.london_bicycles.cycle_hire`\n",
    "WHERE start_station_id = 708\n",
    "\"\"\"\n",
    "df = bq.query(query, location='EU').to_dataframe()\n",
    "print(df.describe())"
   ]
  },
  {
   "cell_type": "markdown",
   "metadata": {},
   "source": [
    "Let's plot the distribution of these rides"
   ]
  },
  {
   "cell_type": "code",
   "execution_count": 3,
   "metadata": {},
   "outputs": [
    {
     "data": {
      "image/png": "[encoded data removed]",
      "text/plain": [
       "<Figure size 432x288 with 1 Axes>"
      ]
     },
     "metadata": {
      "needs_background": "light"
     },
     "output_type": "display_data"
    }
   ],
   "source": [
    "ax = df.plot.hist(range=[0, 3000], bins=20);"
   ]
  },
  {
   "cell_type": "markdown",
   "metadata": {},
   "source": [
    "Fit to a Gamma distribution"
   ]
  },
  {
   "cell_type": "code",
   "execution_count": 4,
   "metadata": {},
   "outputs": [
    {
     "name": "stdout",
     "output_type": "stream",
     "text": [
      "7.297838862149757e-06 -6.485566100418746e-16 4.234333701782285\n"
     ]
    }
   ],
   "source": [
    "from scipy import stats\n",
    "ag,bg,cg = stats.gamma.fit(df['duration'])\n",
    "print(ag, bg, cg)"
   ]
  },
  {
   "cell_type": "markdown",
   "metadata": {},
   "source": [
    "## The Beam/Dataflow pipeline to do this at scale"
   ]
  },
  {
   "cell_type": "code",
   "execution_count": 5,
   "metadata": {},
   "outputs": [
    {
     "name": "stdout",
     "output_type": "stream",
     "text": [
      "Overwriting requirements.txt\n"
     ]
    }
   ],
   "source": [
    "%%writefile requirements.txt\n",
    "numpy\n",
    "scipy"
   ]
  },
  {
   "cell_type": "code",
   "execution_count": null,
   "metadata": {},
   "outputs": [],
   "source": [
    "# output dataset\n",
    "!bq --location=EU mk --dataset ch05eu"
   ]
  },
  {
   "cell_type": "code",
   "execution_count": 7,
   "metadata": {},
   "outputs": [
    {
     "name": "stdout",
     "output_type": "stream",
     "text": [
      "Launching Dataflow job computestats-190606-212218 ... hang on\n"
     ]
    },
    {
     "name": "stderr",
     "output_type": "stream",
     "text": [
      "/home/jupyter/.local/lib/python3.5/site-packages/apache_beam/runners/dataflow/dataflow_runner.py:680: BeamDeprecationWarning: BigQuerySink is deprecated since 2.11.0. Use WriteToBigQuery instead.\n",
      "  kms_key=transform.kms_key))\n"
     ]
    },
    {
     "name": "stdout",
     "output_type": "stream",
     "text": [
      "Done\n"
     ]
    }
   ],
   "source": [
    "import apache_beam as beam\n",
    "import logging\n",
    "import datetime, os\n",
    "\n",
    "def compute_fit(row):\n",
    "  from scipy import stats\n",
    "  import numpy as np\n",
    "  durations = row['duration_array']\n",
    "  ag, bg, cg = stats.gamma.fit(durations)\n",
    "  if np.isfinite(ag) and np.isfinite(bg) and np.isfinite(cg):\n",
    "      result = {}\n",
    "      result['station_id'] = str(row['start_station_id'])\n",
    "      result['ag'] = ag\n",
    "      result['bg'] = bg\n",
    "      result['cg'] = cg\n",
    "      yield result\n",
    "\n",
    "def run_job(in_test_mode=True):\n",
    "  import shutil, os, subprocess\n",
    "  job_name = 'computestats' + '-' + datetime.datetime.now().strftime('%y%m%d-%H%M%S')\n",
    "  \n",
    "  if in_test_mode:\n",
    "      print('Launching local job ... hang on')\n",
    "      OUTPUT_DIR = './station_stats'\n",
    "      shutil.rmtree(OUTPUT_DIR, ignore_errors=True)\n",
    "      os.makedirs(OUTPUT_DIR)\n",
    "  else:\n",
    "      print('Launching Dataflow job {} ... hang on'.format(job_name))\n",
    "      OUTPUT_DIR = 'gs://{0}/station_stats'.format(BUCKET)\n",
    "      try:\n",
    "        subprocess.check_call('gsutil -m rm -r {}'.format(OUTPUT_DIR).split())\n",
    "      except:\n",
    "        pass\n",
    "      \n",
    "  options = {\n",
    "      'staging_location': os.path.join(OUTPUT_DIR, 'tmp', 'staging'),\n",
    "      'temp_location': os.path.join(OUTPUT_DIR, 'tmp'),\n",
    "      'job_name': job_name,\n",
    "      'project': PROJECT,\n",
    "      'region': REGION,\n",
    "      'teardown_policy': 'TEARDOWN_ALWAYS',\n",
    "      'no_save_main_session': True,\n",
    "      'requirements_file': 'requirements.txt'\n",
    "  }\n",
    "  opts = beam.pipeline.PipelineOptions(flags = [], **options)\n",
    "  if in_test_mode:\n",
    "      RUNNER = 'DirectRunner'\n",
    "  else:\n",
    "      RUNNER = 'DataflowRunner'\n",
    "  \n",
    "  if in_test_mode:\n",
    "    query = \"\"\"\n",
    "      SELECT start_station_id, ARRAY_AGG(duration) AS duration_array\n",
    "      FROM `bigquery-public-data.london_bicycles.cycle_hire`\n",
    "      WHERE start_station_id BETWEEN 700 AND 710\n",
    "      GROUP BY start_station_id\n",
    "      \"\"\"\n",
    "  else:\n",
    "     query = \"\"\"\n",
    "      SELECT start_station_id, ARRAY_AGG(duration) AS duration_array\n",
    "      FROM `bigquery-public-data.london_bicycles.cycle_hire`\n",
    "      GROUP BY start_station_id\n",
    "      \"\"\"\n",
    "\n",
    "  with beam.Pipeline(RUNNER, options = opts) as p:\n",
    "    (p \n",
    "      | 'read_bq' >> beam.io.Read(beam.io.BigQuerySource(query=query, use_standard_sql=True))\n",
    "      | 'compute_fit' >> beam.FlatMap(compute_fit)\n",
    "      | 'write_bq' >> beam.io.gcp.bigquery.WriteToBigQuery(\n",
    "          'ch05eu.station_stats', schema='station_id:string,ag:FLOAT64,bg:FLOAT64,cg:FLOAT64')\n",
    "    )\n",
    "    \n",
    "run_job(in_test_mode = False)\n",
    "print('Done')"
   ]
  },
  {
   "cell_type": "markdown",
   "metadata": {},
   "source": [
    "## Verify output table"
   ]
  },
  {
   "cell_type": "code",
   "execution_count": 8,
   "metadata": {},
   "outputs": [],
   "source": [
    "%%bigquery stations\n",
    "SELECT * from ch05eu.station_stats"
   ]
  },
  {
   "cell_type": "code",
   "execution_count": 9,
   "metadata": {},
   "outputs": [
    {
     "data": {
      "text/html": [
       "<div>\n",
       "<style scoped>\n",
       "    .dataframe tbody tr th:only-of-type {\n",
       "        vertical-align: middle;\n",
       "    }\n",
       "\n",
       "    .dataframe tbody tr th {\n",
       "        vertical-align: top;\n",
       "    }\n",
       "\n",
       "    .dataframe thead th {\n",
       "        text-align: right;\n",
       "    }\n",
       "</style>\n",
       "<table border=\"1\" class=\"dataframe\">\n",
       "  <thead>\n",
       "    <tr style=\"text-align: right;\">\n",
       "      <th></th>\n",
       "      <th>ag</th>\n",
       "      <th>bg</th>\n",
       "      <th>cg</th>\n",
       "    </tr>\n",
       "  </thead>\n",
       "  <tbody>\n",
       "    <tr>\n",
       "      <th>count</th>\n",
       "      <td>8.100000e+02</td>\n",
       "      <td>8.100000e+02</td>\n",
       "      <td>8.100000e+02</td>\n",
       "    </tr>\n",
       "    <tr>\n",
       "      <th>mean</th>\n",
       "      <td>2.799379e+00</td>\n",
       "      <td>-1.911546e+08</td>\n",
       "      <td>5.733028e+05</td>\n",
       "    </tr>\n",
       "    <tr>\n",
       "      <th>std</th>\n",
       "      <td>2.417705e+01</td>\n",
       "      <td>5.037746e+09</td>\n",
       "      <td>1.428073e+07</td>\n",
       "    </tr>\n",
       "    <tr>\n",
       "      <th>min</th>\n",
       "      <td>6.789745e-07</td>\n",
       "      <td>-1.431073e+11</td>\n",
       "      <td>1.557510e+00</td>\n",
       "    </tr>\n",
       "    <tr>\n",
       "      <th>25%</th>\n",
       "      <td>3.521553e-06</td>\n",
       "      <td>-4.231209e-15</td>\n",
       "      <td>4.163213e+00</td>\n",
       "    </tr>\n",
       "    <tr>\n",
       "      <th>50%</th>\n",
       "      <td>6.568865e-06</td>\n",
       "      <td>-1.174398e-17</td>\n",
       "      <td>4.282817e+00</td>\n",
       "    </tr>\n",
       "    <tr>\n",
       "      <th>75%</th>\n",
       "      <td>1.277219e-05</td>\n",
       "      <td>-1.001521e-19</td>\n",
       "      <td>4.499690e+00</td>\n",
       "    </tr>\n",
       "    <tr>\n",
       "      <th>max</th>\n",
       "      <td>3.532822e+02</td>\n",
       "      <td>4.705682e+02</td>\n",
       "      <td>4.045320e+08</td>\n",
       "    </tr>\n",
       "  </tbody>\n",
       "</table>\n",
       "</div>"
      ],
      "text/plain": [
       "                 ag            bg            cg\n",
       "count  8.100000e+02  8.100000e+02  8.100000e+02\n",
       "mean   2.799379e+00 -1.911546e+08  5.733028e+05\n",
       "std    2.417705e+01  5.037746e+09  1.428073e+07\n",
       "min    6.789745e-07 -1.431073e+11  1.557510e+00\n",
       "25%    3.521553e-06 -4.231209e-15  4.163213e+00\n",
       "50%    6.568865e-06 -1.174398e-17  4.282817e+00\n",
       "75%    1.277219e-05 -1.001521e-19  4.499690e+00\n",
       "max    3.532822e+02  4.705682e+02  4.045320e+08"
      ]
     },
     "execution_count": 9,
     "metadata": {},
     "output_type": "execute_result"
    }
   ],
   "source": [
    "stats = stations.describe()\n",
    "stats"
   ]
  },
  {
   "cell_type": "code",
   "execution_count": 10,
   "metadata": {},
   "outputs": [
    {
     "data": {
      "image/png": "[encoded data removed]",
      "text/plain": [
       "<Figure size 432x288 with 1 Axes>"
      ]
     },
     "metadata": {
      "needs_background": "light"
     },
     "output_type": "display_data"
    }
   ],
   "source": [
    "stations.plot.hist('ag', range=[stats['ag']['25%'], stats['ag']['75%']]);"
   ]
  },
  {
   "cell_type": "code",
   "execution_count": 11,
   "metadata": {},
   "outputs": [
    {
     "data": {
      "image/png": "[encoded data removed]",
      "text/plain": [
       "<Figure size 432x288 with 1 Axes>"
      ]
     },
     "metadata": {
      "needs_background": "light"
     },
     "output_type": "display_data"
    }
   ],
   "source": [
    "stations.plot.hist('bg', range=[stats['bg']['25%'], stats['bg']['75%']]);"
   ]
  },
  {
   "cell_type": "code",
   "execution_count": 12,
   "metadata": {},
   "outputs": [
    {
     "data": {
      "image/png": "[encoded data removed]",
      "text/plain": [
       "<Figure size 432x288 with 1 Axes>"
      ]
     },
     "metadata": {
      "needs_background": "light"
     },
     "output_type": "display_data"
    }
   ],
   "source": [
    "stations.plot.hist('cg', range=[stats['cg']['25%'], stats['cg']['75%']]);"
   ]
  },
  {
   "cell_type": "code",
   "execution_count": 13,
   "metadata": {},
   "outputs": [
    {
     "data": {
      "text/plain": [
       "(4.163213176566146, 4.49969023901715)"
      ]
     },
     "execution_count": 13,
     "metadata": {},
     "output_type": "execute_result"
    },
    {
     "data": {
      "image/png": "[encoded data removed]",
      "text/plain": [
       "<Figure size 432x288 with 1 Axes>"
      ]
     },
     "metadata": {
      "needs_background": "light"
     },
     "output_type": "display_data"
    }
   ],
   "source": [
    "ax = stations.plot.scatter('ag', 'cg');\n",
    "ax.set_xlim(stats['ag']['25%'], stats['ag']['75%'])\n",
    "ax.set_ylim(stats['cg']['25%'], stats['cg']['75%'])"
   ]
  },
  {
   "cell_type": "markdown",
   "metadata": {},
   "source": [
    "Copyright Google Inc. 2019 Licensed under the Apache License, Version 2.0 (the \"License\"); you may not use this file except in compliance with the License. You may obtain a copy of the License at http://www.apache.org/licenses/LICENSE-2.0 Unless required by applicable law or agreed to in writing, software distributed under the License is distributed on an \"AS IS\" BASIS, WITHOUT WARRANTIES OR CONDITIONS OF ANY KIND, either express or implied. See the License for the specific language governing permissions and limitations under the License."
   ]
  }
 ],
 "metadata": {
  "kernelspec": {
   "display_name": "Python 3",
   "language": "python",
   "name": "python3"
  },
  "language_info": {
   "codemirror_mode": {
    "name": "ipython",
    "version": 3
   },
   "file_extension": ".py",
   "mimetype": "text/x-python",
   "name": "python",
   "nbconvert_exporter": "python",
   "pygments_lexer": "ipython3",
   "version": "3.5.3"
  }
 },
 "nbformat": 4,
 "nbformat_minor": 2
}
