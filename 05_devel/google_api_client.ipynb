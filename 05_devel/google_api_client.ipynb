{
 "cells": [
  {
   "cell_type": "markdown",
   "metadata": {},
   "source": [
    "## Example of using the Google API Client to access BigQuery\n",
    "\n",
    "Note that this is <b>not</b> the recommended approach. You should use the BigQuery client library because that is idiomatic Python. \n",
    "\n",
    "See [the bigquery_client notebook](bigquery_client.ipynb) for examples."
   ]
  },
  {
   "cell_type": "markdown",
   "metadata": {},
   "source": [
    "### Authenticate and build stubs"
   ]
  },
  {
   "cell_type": "code",
   "execution_count": 56,
   "metadata": {},
   "outputs": [],
   "source": [
    "PROJECT='cloud-training-demos'  # CHANGE THIS\n",
    "from googleapiclient.discovery import build\n",
    "service = build('bigquery', 'v2')"
   ]
  },
  {
   "cell_type": "markdown",
   "metadata": {},
   "source": [
    "### Get info about a dataset"
   ]
  },
  {
   "cell_type": "code",
   "execution_count": 44,
   "metadata": {},
   "outputs": [
    {
     "name": "stdout",
     "output_type": "stream",
     "text": [
      "('selfLink', 'https://www.googleapis.com/bigquery/v2/projects/cloud-training-demos/datasets/ch04')\n",
      "('etag', '5Ezj1PxU7/pwe1aBwcMG9Q==')\n",
      "('kind', 'bigquery#dataset')\n",
      "('creationTime', '1548463261350')\n",
      "('id', 'cloud-training-demos:ch04')\n",
      "('lastModifiedTime', '1548654986051')\n",
      "('access', [{'specialGroup': 'projectWriters', 'role': 'WRITER'}, {'userByEmail': 'gcs-dt@bigquery-data-connectors.iam.gserviceaccount.com', 'role': 'WRITER'}, {'userByEmail': 'service-663413318684@gcp-sa-bigquerydatatransfer.iam.gserviceaccount.com', 'role': 'WRITER'}, {'specialGroup': 'projectOwners', 'role': 'OWNER'}, {'userByEmail': 'vlakshmanan@google.com', 'role': 'OWNER'}, {'specialGroup': 'projectReaders', 'role': 'READER'}])\n",
      "('datasetReference', {'projectId': 'cloud-training-demos', 'datasetId': 'ch04'})\n",
      "('location', 'US')\n"
     ]
    }
   ],
   "source": [
    "# information about the ch04 dataset\n",
    "dsinfo = service.datasets().get(datasetId=\"ch04\", projectId=PROJECT).execute()\n",
    "for info in dsinfo.items():\n",
    "  print(info)"
   ]
  },
  {
   "cell_type": "markdown",
   "metadata": {},
   "source": [
    "### List tables and creation times"
   ]
  },
  {
   "cell_type": "code",
   "execution_count": 40,
   "metadata": {},
   "outputs": [
    {
     "name": "stdout",
     "output_type": "stream",
     "text": [
      "cloudaudit_googleapis_com_activity_20190128 was created at 1548654277622\n",
      "cloudaudit_googleapis_com_data_access_20190128 was created at 1548654276918\n",
      "college_scorecard_clean was created at 1549858608756\n",
      "college_scorecard_df was created at 1548696007442\n",
      "college_scorecard_dts was created at 1548655943233\n",
      "college_scorecard_etl was created at 1549870472227\n",
      "college_scorecard_gs was created at 1548463434535\n",
      "logs was created at 1548565079270\n"
     ]
    }
   ],
   "source": [
    "# list tables in dataset\n",
    "tables = service.tables().list(datasetId=\"ch04\", projectId=PROJECT).execute()\n",
    "for t in tables['tables']:\n",
    "  print(t['tableReference']['tableId'] + ' was created at ' + t['creationTime'])"
   ]
  },
  {
   "cell_type": "markdown",
   "metadata": {},
   "source": [
    "### Query and get result"
   ]
  },
  {
   "cell_type": "code",
   "execution_count": 80,
   "metadata": {},
   "outputs": [
    {
     "name": "stdout",
     "output_type": "stream",
     "text": [
      "{'query': 'SELECT start_station_name , AVG(duration) as duration , COUNT(duration) as num_trips FROM `bigquery-public-data`.london_bicycles.cycle_hire GROUP BY start_station_name ORDER BY num_trips DESC LIMIT 5', 'useLegacySql': False}\n",
      "----------------------------------------\n",
      "Belgrove Street , King's Cross\n",
      "Hyde Park Corner, Hyde Park\n",
      "Waterloo Station 3, Waterloo\n",
      "Black Lion Gate, Kensington Gardens\n",
      "Albert Gate, Hyde Park\n"
     ]
    }
   ],
   "source": [
    "# send a query request\n",
    "request={\n",
    "  \"useLegacySql\": False, \n",
    "  \"query\": \"SELECT start_station_name , AVG(duration) as duration , COUNT(duration) as num_trips FROM `bigquery-public-data`.london_bicycles.cycle_hire GROUP BY start_station_name ORDER BY num_trips DESC LIMIT 5\" \n",
    "}\n",
    "print(request)\n",
    "response = service.jobs().query(projectId=PROJECT, body=request).execute()\n",
    "print('----' * 10)\n",
    "for r in response['rows']:\n",
    "  print(r['f'][0]['v'])"
   ]
  },
  {
   "cell_type": "markdown",
   "metadata": {},
   "source": [
    "### Asynchronous query and paging through results"
   ]
  },
  {
   "cell_type": "code",
   "execution_count": 77,
   "metadata": {},
   "outputs": [
    {
     "name": "stdout",
     "output_type": "stream",
     "text": [
      "{'jobReference': {'jobId': 'job_MJdV2bvUWAns4rFCu48x2v2O6yTv', 'projectId': 'cloud-training-demos', 'location': 'EU'}, 'jobComplete': False, 'kind': 'bigquery#queryResponse'}\n"
     ]
    }
   ],
   "source": [
    "# send a query request that will not terminate within the timeout specified and will require paging\n",
    "request={\n",
    "  \"useLegacySql\": False,\n",
    "  \"timeoutMs\": 0,\n",
    "  \"useQueryCache\": False,\n",
    "  \"query\": \"SELECT start_station_name , AVG(duration) as duration , COUNT(duration) as num_trips FROM `bigquery-public-data`.london_bicycles.cycle_hire GROUP BY start_station_name ORDER BY num_trips DESC LIMIT 5\" \n",
    "}\n",
    "response = service.jobs().query(projectId=PROJECT, body=request).execute()\n",
    "print(response)"
   ]
  },
  {
   "cell_type": "code",
   "execution_count": 78,
   "metadata": {},
   "outputs": [
    {
     "name": "stdout",
     "output_type": "stream",
     "text": [
      "job_MJdV2bvUWAns4rFCu48x2v2O6yTv\n"
     ]
    }
   ],
   "source": [
    "jobId = response['jobReference']['jobId']\n",
    "print(jobId)"
   ]
  },
  {
   "cell_type": "code",
   "execution_count": 79,
   "metadata": {},
   "outputs": [
    {
     "name": "stdout",
     "output_type": "stream",
     "text": [
      "Belgrove Street , King's Cross\n",
      "Hyde Park Corner, Hyde Park\n",
      "----------\n",
      "{'totalBytesProcessed': '903989528', 'totalRows': '5', 'etag': 'tQOWiG42eMs7tZ2A3Cj5iQ==', 'kind': 'bigquery#getQueryResultsResponse', 'rows': [{'f': [{'v': \"Belgrove Street , King's Cross\"}, {'v': '1011.0766960393793'}, {'v': '234458'}]}, {'f': [{'v': 'Hyde Park Corner, Hyde Park'}, {'v': '2782.7307087636773'}, {'v': '215629'}]}], 'pageToken': 'BFKX27XENAAQAAASA4EAAEEAQCAAKGQEBABBAARAWCXBK===', 'schema': {'fields': [{'mode': 'NULLABLE', 'name': 'start_station_name', 'type': 'STRING'}, {'mode': 'NULLABLE', 'name': 'duration', 'type': 'FLOAT'}, {'mode': 'NULLABLE', 'name': 'num_trips', 'type': 'INTEGER'}]}, 'jobReference': {'jobId': 'job_MJdV2bvUWAns4rFCu48x2v2O6yTv', 'projectId': 'cloud-training-demos', 'location': 'EU'}, 'jobComplete': True, 'cacheHit': False}\n",
      "Waterloo Station 3, Waterloo\n",
      "Black Lion Gate, Kensington Gardens\n",
      "----------\n",
      "{'totalBytesProcessed': '903989528', 'totalRows': '5', 'etag': 'eqV8OPEVgvnMzvNKgABQNQ==', 'kind': 'bigquery#getQueryResultsResponse', 'rows': [{'f': [{'v': 'Waterloo Station 3, Waterloo'}, {'v': '866.3761345037934'}, {'v': '201630'}]}, {'f': [{'v': 'Black Lion Gate, Kensington Gardens'}, {'v': '3588.012003556605'}, {'v': '161952'}]}], 'pageToken': 'BFKX27XENAAQAAASA4EAAEEAQCAAKGQEBACBAARAWCXBK===', 'schema': {'fields': [{'mode': 'NULLABLE', 'name': 'start_station_name', 'type': 'STRING'}, {'mode': 'NULLABLE', 'name': 'duration', 'type': 'FLOAT'}, {'mode': 'NULLABLE', 'name': 'num_trips', 'type': 'INTEGER'}]}, 'jobReference': {'jobId': 'job_MJdV2bvUWAns4rFCu48x2v2O6yTv', 'projectId': 'cloud-training-demos', 'location': 'EU'}, 'jobComplete': True, 'cacheHit': False}\n",
      "Albert Gate, Hyde Park\n",
      "----------\n",
      "{'totalBytesProcessed': '903989528', 'totalRows': '5', 'etag': '0NrkGXvueSL96yj1aB2oRA==', 'kind': 'bigquery#getQueryResultsResponse', 'rows': [{'f': [{'v': 'Albert Gate, Hyde Park'}, {'v': '2359.4139302395765'}, {'v': '155647'}]}], 'schema': {'fields': [{'mode': 'NULLABLE', 'name': 'start_station_name', 'type': 'STRING'}, {'mode': 'NULLABLE', 'name': 'duration', 'type': 'FLOAT'}, {'mode': 'NULLABLE', 'name': 'num_trips', 'type': 'INTEGER'}]}, 'jobReference': {'jobId': 'job_MJdV2bvUWAns4rFCu48x2v2O6yTv', 'projectId': 'cloud-training-demos', 'location': 'EU'}, 'jobComplete': True, 'cacheHit': False}\n"
     ]
    }
   ],
   "source": [
    "# get query results\n",
    "while (not response['jobComplete']):\n",
    "  response = service.jobs().getQueryResults(projectId=PROJECT, \n",
    "                                            jobId=jobId, \n",
    "                                            maxResults=2, \n",
    "                                            timeoutMs=5).execute()\n",
    "\n",
    "while (True):\n",
    "  # print responses\n",
    "  for row in response['rows']:\n",
    "    print(row['f'][0]['v']) # station name\n",
    "  print('--' * 5)\n",
    "  # page through responses\n",
    "  if 'pageToken' in response:\n",
    "    pageToken = response['pageToken']\n",
    "    # get next page\n",
    "    response = service.jobs().getQueryResults(projectId=PROJECT, \n",
    "                                              jobId=jobId, \n",
    "                                              maxResults=2,\n",
    "                                              pageToken=pageToken,\n",
    "                                              timeoutMs=5).execute()\n",
    "  else:\n",
    "    break\n",
    "  "
   ]
  },
  {
   "cell_type": "markdown",
   "metadata": {},
   "source": [
    "Copyright 2019 Google Inc. Licensed under the Apache License, Version 2.0 (the \"License\"); you may not use this file except in compliance with the License. You may obtain a copy of the License at http://www.apache.org/licenses/LICENSE-2.0 Unless required by applicable law or agreed to in writing, software distributed under the License is distributed on an \"AS IS\" BASIS, WITHOUT WARRANTIES OR CONDITIONS OF ANY KIND, either express or implied. See the License for the specific language governing permissions and limitations under the License"
   ]
  }
 ],
 "metadata": {
  "kernelspec": {
   "display_name": "Python 3",
   "language": "python",
   "name": "python3"
  },
  "language_info": {
   "codemirror_mode": {
    "name": "ipython",
    "version": 3
   },
   "file_extension": ".py",
   "mimetype": "text/x-python",
   "name": "python",
   "nbconvert_exporter": "python",
   "pygments_lexer": "ipython3",
   "version": "3.5.6"
  }
 },
 "nbformat": 4,
 "nbformat_minor": 2
}
